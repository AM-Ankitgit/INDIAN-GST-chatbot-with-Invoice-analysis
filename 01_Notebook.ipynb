{
 "cells": [
  {
   "cell_type": "code",
   "execution_count": 2,
   "metadata": {},
   "outputs": [],
   "source": [
    "from langchain_openai import ChatOpenAI\n",
    "from dotenv import load_dotenv \n",
    "\n",
    "load_dotenv()\n",
    "\n",
    "import os\n",
    "# DEEPSEEK_API_KEY = \"sk-3938d707e5364e2f8580d5f096ba76ef\"\n",
    "# model = ChatOpenAI(\n",
    "#     model=\"deepseek-chat\", \n",
    "#     api_key=DEEPSEEK_API_KEY, \n",
    "#     base_url=\"https://api.deepseek.com\",\n",
    "\n",
    "#     temperature=0.0\n",
    "# )\n",
    "# model.invoke(\"suggest some ways to reduce my gst tax scenario[ Me and my wife have dance partnership firm  where we conduct online and offline class from 2019 to 2024 we paid around 50 laks as gst is there any way to reduce this cost ] suggest me some ways to reduce .we can do it in any way. give the very human understandable result becuase i don't have any knlowlegtool_with_llme of gst\")\n"
   ]
  },
  {
   "cell_type": "code",
   "execution_count": 3,
   "metadata": {},
   "outputs": [],
   "source": [
    "os.environ['OPENAI_API_KEY'] = os.getenv(\"OPENAI_API_KEY\")"
   ]
  },
  {
   "cell_type": "code",
   "execution_count": 4,
   "metadata": {},
   "outputs": [],
   "source": [
    "# # load the data file and perform the chunking \n",
    "\n",
    "# # doc_dir = \"../data/unstructured_docs/stories/stories.pdf\"\n",
    "chunk_size = 500\n",
    "chunk_overlap = 100\n",
    "\n",
    "embedding_model = 'text-embedding-3-small'\n",
    "vectordb_dir = './DATA/GST_DATA_VECTOR_DB'\n",
    "collection_name = 'pdf_data'\n",
    "# pdf_file_name = '../data/unstructured_docs/swiss_airline_policy/Notification12-CGST.pdf'\n",
    "llm = 'o1-mini' \n",
    "\n",
    "# from pyprojroot import here\n",
    "\n",
    "# # check if the vectordb file exist generated or not if not create\n",
    "\n",
    "# llm = ChatOpenAI(model=llm)\n",
    "# llm.invoke(\"Select the number from among the given options that can replace the question mark (?) in the following series. 28, 32, 41, 57 ?.## i want one line answere\")"
   ]
  },
  {
   "cell_type": "code",
   "execution_count": 5,
   "metadata": {},
   "outputs": [],
   "source": [
    "# llm.invoke(\"suggest some ways to reduce my gst tax scenario[ Me and my wife have dance partnership firm  where we conduct online and offline class from 2019 to 2024 we paid around 50 laks as gst is there any way to reduce this cost ] suggest me some ways to reduce .we can do it in any way. give the very human understandable result becuase i don't have any knowledge of gst\").content"
   ]
  },
  {
   "cell_type": "code",
   "execution_count": 6,
   "metadata": {},
   "outputs": [],
   "source": [
    "# from langchain_community.document_loaders import PyPDFLoader\n",
    "# from langchain.text_splitter import RecursiveCharacterTextSplitter\n",
    "\n",
    "# # Load the PDF and split it\n",
    "# docs = PyPDFLoader(pdf_file_name).load_and_split()\n",
    "\n",
    "# # Split text using RecursiveCharacterTextSplitter\n",
    "# text_splitter = RecursiveCharacterTextSplitter.from_tiktoken_encoder(\n",
    "#     chunk_size=chunk_size, chunk_overlap=chunk_overlap\n",
    "# )\n",
    "\n",
    "# doc_splits = text_splitter.split_documents(docs)\n"
   ]
  },
  {
   "cell_type": "code",
   "execution_count": 7,
   "metadata": {},
   "outputs": [],
   "source": [
    "\n",
    "# store the data in vector db(chromadb)\n",
    "from langchain_openai import OpenAIEmbeddings\n",
    "from langchain_chroma import Chroma\n",
    "\n",
    "# vectordb = Chroma.from_documents(\n",
    "#     documents=doc_splits,\n",
    "#     collection_name=collection_name,\n",
    "#     embedding=OpenAIEmbeddings(model = embedding_model),\n",
    "#     persist_directory=str(vectordb_dir)\n",
    "# )"
   ]
  },
  {
   "cell_type": "code",
   "execution_count": 8,
   "metadata": {},
   "outputs": [],
   "source": [
    "# vectordb.similarity_search(\"heading 9954\")"
   ]
  },
  {
   "cell_type": "code",
   "execution_count": 9,
   "metadata": {},
   "outputs": [],
   "source": [
    "# EMBEDDING_MODEL = \"text-embedding-3-small\"\n",
    "VECTORDB_DIR = \"./DATA/GST_DATA_VECTOR_DB\"\n",
    "K = 3\n",
    "\n",
    "\n",
    "from langchain_core.tools import tool\n",
    "\n",
    "@tool\n",
    "def look_gst_data(query: str) -> str:\n",
    "    \"\"\"\n",
    "    Your responsibility is to provide accurate and clear answers related to Goods and Services Tax (GST) in India. \n",
    "    You must:\n",
    "    - Retrieve relevant information from the GST-related documents stored in the database.\n",
    "    - Ensure your answer is precise and based on actual GST rules, exemptions, or relevant legal content.\n",
    "    - If the query is complex, provide additional context for better understanding.\n",
    "    \n",
    "    Steps:\n",
    "    1. Query the database for relevant documents related to GST.\n",
    "    2. Retrieve the top documents (up to 3) based on relevance.\n",
    "    3. Ensure the response is easy to understand for non-experts.\n",
    "    4. If the documents don't answer the query, return a message guiding the user to consult a GST professional.\n",
    "\n",
    "    Example of response structure:\n",
    "    - Provide the content from the retrieved documents.\n",
    "    - If necessary, summarize or explain the content in simpler terms.\n",
    "    \"\"\"\n",
    "    \n",
    "    vectordb = Chroma(\n",
    "        collection_name=collection_name,\n",
    "        persist_directory=vectordb_dir,\n",
    "        embedding_function=OpenAIEmbeddings()\n",
    "    )\n",
    "    \n",
    "    # Retrieve the top 3 most relevant documents from the vector database\n",
    "    docs = vectordb.similarity_search(query=query, k=3)\n",
    "    \n",
    "    # Return the content of the documents\n",
    "    # If documents are not found or don't fully answer the query, provide helpful guidance\n",
    "    if not docs:\n",
    "        return \"No relevant GST-related documents found. Please consult a qualified GST professional for further assistance.\"\n",
    "\n",
    "    # Join and return the content of the retrieved documents\n",
    "    return \"\\n\\n\".join([doc.page_content for doc in docs])\n",
    "\n"
   ]
  },
  {
   "cell_type": "code",
   "execution_count": 10,
   "metadata": {},
   "outputs": [],
   "source": [
    "#  # Webscrappig Tool\n",
    "\n",
    "# from langchain_community.document_loaders import WebBaseLoader\n",
    "\n",
    "# from bs4 import BeautifulSoup\n",
    "# import requests\n",
    "\n",
    "\n",
    "\n",
    "# def crawl_site_for_pdfs(base_url, visited=set()):\n",
    "#     \"\"\"Recursively crawl the site to find all PDF links.\"\"\"\n",
    "#     response = requests.get(base_url)\n",
    "#     if response.status_code != 200:\n",
    "#         return []\n",
    "\n",
    "#     soup = BeautifulSoup(response.text, 'html.parser')\n",
    "#     pdf_links = []\n",
    "\n",
    "#     # Find all links\n",
    "#     for link in soup.find_all('a', href=True):\n",
    "#         href = link['href']\n",
    "#         # Check if it's a PDF\n",
    "#         if href.endswith('.pdf'):\n",
    "#             full_url = href if href.startswith('http') else base_url + href\n",
    "#             pdf_links.append(full_url)\n",
    "#         # Crawl other pages on the same domain\n",
    "#         elif base_url in href and href not in visited:\n",
    "#             visited.add(href)\n",
    "#             pdf_links.extend(crawl_site_for_pdfs(href, visited))\n",
    "\n",
    "#     return pdf_links\n",
    "\n",
    "# # Start crawling\n",
    "# all_pdf_links = crawl_site_for_pdfs(\"https://www.icai.org/post/19142\")\n",
    "# print(f\"Total PDFs found: {len(all_pdf_links)}\")\n",
    "\n"
   ]
  },
  {
   "cell_type": "code",
   "execution_count": 11,
   "metadata": {},
   "outputs": [],
   "source": [
    "# from langchain.document_loaders import WebBaseLoader\n",
    "\n",
    "# # List of PDF URLs (obtained from the previous step)\n",
    "# all_pdf_links\n",
    "\n",
    "# # Load each PDF using WebBaseLoader\n",
    "# documents = []\n",
    "# for pdf_url in all_pdf_links:\n",
    "#     loader = WebBaseLoader(pdf_url)\n",
    "#     documents.extend(loader.load())\n",
    "\n",
    "# # Display content of the loaded documents\n",
    "# for i, doc in enumerate(documents):\n",
    "#     print(f\"Document {i+1}:\")\n",
    "#     print(doc.page_content[:500])  # Print the first 500 characters\n"
   ]
  },
  {
   "cell_type": "code",
   "execution_count": 12,
   "metadata": {},
   "outputs": [],
   "source": [
    "# documents[0]"
   ]
  },
  {
   "cell_type": "code",
   "execution_count": 13,
   "metadata": {},
   "outputs": [
    {
     "data": {
      "text/plain": [
       "'No relevant GST-related documents found. Please consult a qualified GST professional for further assistance.'"
      ]
     },
     "execution_count": 13,
     "metadata": {},
     "output_type": "execute_result"
    }
   ],
   "source": [
    "# test the agent of gst lookup tool\n",
    "\n",
    "look_gst_data.invoke(\"what is 9954\")\n",
    "\n",
    "# you should treat yourself as the Goods and Services Tax expert you work specially around the indian goods and service tax (GST) if user can as the any query based on their business need try to solve.if user providing his business detail with number perform the calculation and give the solid answere and also you have reasoning ability"
   ]
  },
  {
   "cell_type": "code",
   "execution_count": 14,
   "metadata": {},
   "outputs": [],
   "source": [
    "# create llm as tool \n",
    "\n",
    "# large lang model o1-mini\n",
    "from langchain.schema import SystemMessage,HumanMessage\n",
    "\n",
    "@tool\n",
    "def get_llm_tool(query: str) -> str:\n",
    "    \"\"\"\n",
    "    Treat yourself as an expert in Indian Goods and Services Tax (GST). You should:\n",
    "    - Solve user queries based on their business needs.\n",
    "    - Perform calculations if business details with numbers are provided.\n",
    "    - Provide solid, actionable answers with reasoning and clarity.\n",
    "    \"\"\"\n",
    "\n",
    "    # Crafting the prompt\n",
    "    custom_prompt = (\n",
    "        \"You are an expert in Indian Goods and Services Tax (GST). Your role is to provide **practical and actionable solutions** \"\n",
    "        \"for GST-related queries. Follow these guidelines to ensure focused, result-oriented responses:\\n\"\n",
    "        \"1. Read the question carefully and understand the all terminlogy and logic of the question\"\n",
    "        \"2. if Query is based on the some situation of the business problem or someone give the real life problem statement give real life solution by keep in mind the INDIAN GOODS AND SERVICES TAXES (GST) so the user can can get the most benefit out of that.\\n\"\n",
    "        \"3. Solve the user's query based on their business needs with **step-by-step actionable advice** that can be implemented directly.\\n\"\n",
    "        \"4. If business details with numbers are provided, perform **detailed calculations** based on GST rules and present the results clearly.\\n\"\n",
    "        \"5. Avoid lengthy theoretical explanations. Focus on **applicable GST rules, exemptions, credits, and liabilities** to address the user's situation.\\n\"\n",
    "        \"6. Use reasoning, examples, or real-world approaches only when necessary to clarify complex points or justify your calculations.\\n\"\n",
    "        \"7. Always deliver a **clear, concise, and implementable answer**.\\n\\n\"\n",
    "        \"8. before give the answere recheck the answere\"\n",
    "        \"User Query:\\n\"\n",
    "        f\"{query}\\n\\n\"\n",
    "        \"Your response should be easy to understand, focused on practical outcomes, and include any calculations or GST rules applied to the solution.\"\n",
    "    )\n",
    "\n",
    "    # Updated prompt with additional guidelines\n",
    "    custom_prompt = (\n",
    "        \"You are an expert in Indian Goods and Services Tax (GST). Follow these guidelines to provide **ethical, actionable, and real-world solutions**:\\n\"\n",
    "        \"1. Read the question carefully and understand the terminology and logic of the query.\\n\"\n",
    "        \"2. If the query involves a business situation, provide a real-life solution tailored to **Indian GST** to help the user get the most benefit.\\n\"\n",
    "        \"3. Solve the query based on the user's business needs with **step-by-step actionable advice** that can be easily implemented.\\n\"\n",
    "        \"4. If the query includes business details with numbers, perform **detailed calculations** based on GST rules and present them clearly.\\n\"\n",
    "        \"5. Avoid lengthy theoretical explanations. Focus on **applicable GST rules, exemptions, credits, and liabilities** relevant to the user's situation.\\n\"\n",
    "        \"6. Use reasoning or real-world examples only when necessary to clarify complex points or justify calculations.\\n\"\n",
    "        \"7. Always deliver a **clear, concise, and implementable answer**.\\n\"\n",
    "        \"8. Before answering, **recheck** your solution for accuracy and clarity.\\n\"\n",
    "        \"9. Ensure **ethical** standards are met, including **data privacy** and **non-bias** in all responses.\\n\"\n",
    "        \"User Query:\\n\"\n",
    "        f\"{query}\\n\\n\"\n",
    "        \"Your response should be actionable, transparent, and ethically sound, based on Indian GST rules.\"\n",
    "    )\n",
    "\n",
    "\n",
    "    # Updated prompt for including ethical considerations\n",
    "    custom_prompt = (\n",
    "        \"You are an expert in Indian Goods and Services Tax (GST). Follow these guidelines to ensure **ethical** and **compliant** solutions:\\n\"\n",
    "        \"1. Provide **practical, unbiased, and actionable solutions** while following Indian GST rules.\\n\"\n",
    "        \"2. Ensure **data privacy** and confidentiality for all user interactions.\\n\"\n",
    "        \"3. Be transparent about how any advice is based on GST laws and relevant data.\\n\"\n",
    "        \"4. Avoid providing advice that could be considered discriminatory or harmful.\\n\"\n",
    "        \"5. Follow the **principles of fairness and non-bias** in all responses.\\n\"\n",
    "        \"6. Keep solutions clear and concise while respecting business and privacy constraints.\\n\"\n",
    "        \"User Query:\\n\"\n",
    "        f\"{query}\\n\\n\"\n",
    "        \"Your response should be actionable, transparent, and adhere to ethical guidelines.\"\n",
    "    )\n",
    "\n",
    "\n",
    "    # Initialize the ChatOpenAI LLM\n",
    "    llm = ChatOpenAI(model=\"o1-mini\")\n",
    "\n",
    "    # Invoke the LLM with the crafted prompt\n",
    "    response = llm.invoke(custom_prompt)\n",
    "\n",
    "    # Return the LLM's response content\n",
    "    return response.content\n",
    "\n",
    "\n",
    "\n",
    "# get_llm_tool.invoke(\"suggest some ways to reduce my gst tax scenario[ Me and my wife have dance partnership firm  where we conduct online and offline class from 2019 to 2024 we paid around 50 laks as gst is there any way to reduce this cost ] suggest me some ways to reduce .we can do it in any way. give the very human understandable result becuase i don't have any knlowlegtool_with_llme of gst\")\n",
    "\n",
    "# get_llm_tool.invoke(\"Select the number from among the given options that can replace the question mark (?) in the following series. 28, 32, 41, 57 i want one line answere\")\n",
    "\n"
   ]
  },
  {
   "cell_type": "code",
   "execution_count": 15,
   "metadata": {},
   "outputs": [],
   "source": [
    "llm = ChatOpenAI(model=\"gpt-4o\",temperature=0)\n",
    "\n",
    "tool = [look_gst_data, get_llm_tool]\n",
    "\n",
    "tool_with_llm = llm.bind_tools(tools=tool)\n",
    "\n",
    "# tool_with_llm.invoke(\"suggest some ways to reduce my gst tax scenario[ Me and my wife have dance partnership firm  where we conduct online and offline class from 2019 to 2024 we paid around 50 laks as gst is there any way to reduce this cost ] suggest me some ways to reduce .we can do it in any way. give the very human understandable result becuase i don't have any knlowlege of gst\").content\n"
   ]
  },
  {
   "cell_type": "code",
   "execution_count": 16,
   "metadata": {},
   "outputs": [],
   "source": [
    "\n",
    "# tool_with_llm.invoke(\"hi my name is ankit\")"
   ]
  },
  {
   "cell_type": "code",
   "execution_count": 17,
   "metadata": {},
   "outputs": [],
   "source": [
    "# tool_with_llm.invoke(\"what is gst\")"
   ]
  },
  {
   "cell_type": "code",
   "execution_count": 18,
   "metadata": {},
   "outputs": [],
   "source": [
    "# tool_with_llm.invoke(\"Select the number from among the given options that can replace the question mark (?) in the following series. 28, 32, 41, 57 ?.## i want one line answere\")"
   ]
  },
  {
   "cell_type": "code",
   "execution_count": 19,
   "metadata": {},
   "outputs": [],
   "source": [
    "from typing import Annotated\n",
    "from typing_extensions import TypedDict\n",
    "from langgraph.graph import StateGraph, START\n",
    "from langgraph.graph.message import add_messages\n",
    "\n",
    "\n",
    "class State(TypedDict):\n",
    "    messages: Annotated[list, add_messages]\n",
    "\n",
    "graph_builder = StateGraph(State)"
   ]
  },
  {
   "cell_type": "code",
   "execution_count": 20,
   "metadata": {},
   "outputs": [],
   "source": [
    "def chatbot(state: State):\n",
    "    return {\"messages\": [tool_with_llm.invoke(state[\"messages\"])]}\n",
    "\n",
    "graph_builder.add_node(\"chatbot\", chatbot)"
   ]
  },
  {
   "cell_type": "code",
   "execution_count": 21,
   "metadata": {},
   "outputs": [],
   "source": [
    "import json\n",
    "from langchain_core.messages import ToolMessage\n",
    "\n",
    "import sys\n",
    "class BasicToolNode:\n",
    "    \"\"\"A node that runs the tools requested in the last AIMessage.\"\"\"\n",
    "\n",
    "    def __init__(self, tools: list) -> None:\n",
    "        self.tools_by_name = {tool.name: tool for tool in tools}\n",
    "\n",
    "    def __call__(self, inputs: dict):\n",
    "        if messages := inputs.get(\"messages\", []):\n",
    "            message = messages[-1]\n",
    "        else:\n",
    "            raise ValueError(\"No message found in input\")\n",
    "        outputs = []\n",
    "        for tool_call in message.tool_calls:\n",
    "            \n",
    "\n",
    "            tool_result = self.tools_by_name[tool_call[\"name\"]].invoke(\n",
    "                tool_call[\"args\"]\n",
    "            )\n",
    "\n",
    "            outputs.append(\n",
    "                ToolMessage(\n",
    "                    content=json.dumps(tool_result),\n",
    "                    name=tool_call[\"name\"],\n",
    "                    tool_call_id=tool_call[\"id\"],\n",
    "                )\n",
    "            )\n",
    "\n",
    "        return {\"messages\": outputs}\n",
    "\n",
    "# {'name': 'get_llm_tool', 'args': {'query': 'Can I cancel my flight ticket 10 hours before the flight?'}, 'id': 'call_EdbO9kD3zXZ8vwohG5kEEiYm', 'type': 'tool_call'}\n",
    "\n",
    "tool_node = BasicToolNode(tools=[look_gst_data,get_llm_tool])\n",
    "\n",
    "graph_builder.add_node(\"tools\", tool_node)"
   ]
  },
  {
   "cell_type": "code",
   "execution_count": 22,
   "metadata": {},
   "outputs": [],
   "source": [
    "from langgraph.graph import END, MessagesState\n",
    "from typing import Literal\n",
    "\n",
    "# Define the function that determines whether to continue or not\n",
    "def should_continue(state: MessagesState) -> Literal[\"tools\", END]:\n",
    "    messages = state['messages']\n",
    "    last_message = messages[-1]\n",
    "    # If the LLM makes a tool call, then we route to the \"tools\" node\n",
    "    if last_message.tool_calls:\n",
    "        return \"tools\"\n",
    "    # Otherwise, we stop (reply to the user)\n",
    "    return END\n",
    "\n",
    "graph_builder.add_conditional_edges(\n",
    "    \"chatbot\",\n",
    "    should_continue,\n",
    "    [\"tools\", END],\n",
    ")\n",
    "# Any time a tool is called, we return to the chatbot to decide the next step\n",
    "graph_builder.add_edge(\"tools\", \"chatbot\")\n",
    "graph_builder.add_edge(START, \"chatbot\")"
   ]
  },
  {
   "cell_type": "code",
   "execution_count": 23,
   "metadata": {},
   "outputs": [],
   "source": [
    "from langgraph.checkpoint.memory import MemorySaver\n",
    "\n",
    "memory = MemorySaver()\n",
    "graph = graph_builder.compile(checkpointer=memory)"
   ]
  },
  {
   "cell_type": "code",
   "execution_count": 24,
   "metadata": {},
   "outputs": [
    {
     "data": {
      "image/png": "[encoded data removed]",
      "text/plain": [
       "<IPython.core.display.Image object>"
      ]
     },
     "metadata": {},
     "output_type": "display_data"
    }
   ],
   "source": [
    "from IPython.display import Image, display\n",
    "\n",
    "try:\n",
    "    display(Image(graph.get_graph().draw_mermaid_png()))\n",
    "except Exception:\n",
    "    # This requires some extra dependencies and is optional\n",
    "    pass"
   ]
  },
  {
   "cell_type": "code",
   "execution_count": 25,
   "metadata": {},
   "outputs": [],
   "source": [
    "save = False\n",
    "\n",
    "if save:\n",
    "    from PIL import Image as PILImage\n",
    "    import io\n",
    "    # Assuming graph.get_graph().draw_mermaid_png() returns PNG binary data\n",
    "    try:\n",
    "        # Generate the PNG image from the graph\n",
    "        png_data = graph.get_graph().draw_mermaid_png()\n",
    "        \n",
    "        # Convert the binary data into an image\n",
    "        img = PILImage.open(io.BytesIO(png_data))\n",
    "        \n",
    "        # Save the image locally with 300 DPI\n",
    "        img.save('output_image.png', 'PNG', dpi=(300, 300))\n",
    "        \n",
    "        print(\"Image saved successfully with 300 DPI.\")\n",
    "    except Exception as e:\n",
    "        print(f\"Error: {e}\")"
   ]
  },
  {
   "cell_type": "code",
   "execution_count": 26,
   "metadata": {},
   "outputs": [],
   "source": [
    "config = {\"configurable\": {\"thread_id\": \"1\"}}"
   ]
  },
  {
   "cell_type": "code",
   "execution_count": 27,
   "metadata": {},
   "outputs": [
    {
     "name": "stdout",
     "output_type": "stream",
     "text": [
      "================================\u001b[1m Human Message \u001b[0m=================================\n",
      "\n",
      "Hi there! My name is Farzad.\n",
      "==================================\u001b[1m Ai Message \u001b[0m==================================\n",
      "\n",
      "Hello Farzad! How can I assist you today?\n"
     ]
    }
   ],
   "source": [
    "user_input = \"Hi there! My name is Farzad.\"\n",
    "\n",
    "# The config is the **second positional argument** to stream() or invoke()!\n",
    "events = graph.stream(\n",
    "    {\"messages\": [(\"user\", user_input)]}, config, stream_mode=\"values\"\n",
    ")\n",
    "for event in events:\n",
    "    event[\"messages\"][-1].pretty_print()"
   ]
  },
  {
   "cell_type": "code",
   "execution_count": 28,
   "metadata": {},
   "outputs": [
    {
     "name": "stdout",
     "output_type": "stream",
     "text": [
      "================================\u001b[1m Human Message \u001b[0m=================================\n",
      "\n",
      "please help me understand the tax liability from this sale of apartment  Bought flat in 2007 for 14lkah Sold it in Dec 2024 for 45 Lakh Am i eligible to get indexation benefit What would be the tentative tax liability - if eligible for indexation Is it worth to invest the proceeds in another flat of 60lakh(which will have 7-9% tax and administrative charges additional), or invest it in a Mutual Fund lumpsum\n",
      "==================================\u001b[1m Ai Message \u001b[0m==================================\n",
      "Tool Calls:\n",
      "  get_llm_tool (call_pVUbrccN5C6BIBmL8rY95bpi)\n",
      " Call ID: call_pVUbrccN5C6BIBmL8rY95bpi\n",
      "  Args:\n",
      "    query: Calculate the tax liability for selling an apartment bought in 2007 for 14 lakh and sold in December 2024 for 45 lakh. Include indexation benefits and provide a tentative tax liability.\n",
      "  look_gst_data (call_R153NHw1ueAq7TuP5I9bDgLl)\n",
      " Call ID: call_R153NHw1ueAq7TuP5I9bDgLl\n",
      "  Args:\n",
      "    query: GST implications on investing in a new flat of 60 lakh with 7-9% tax and administrative charges.\n",
      "=================================\u001b[1m Tool Message \u001b[0m=================================\n",
      "Name: look_gst_data\n",
      "\n",
      "\"No relevant GST-related documents found. Please consult a qualified GST professional for further assistance.\"\n",
      "==================================\u001b[1m Ai Message \u001b[0m==================================\n",
      "\n",
      "### Tax Liability from Sale of Apartment\n",
      "\n",
      "#### 1. Long-Term Capital Gains (LTCG) Calculation\n",
      "\n",
      "- **Purchase Details:**\n",
      "  - **Year of Purchase:** 2007\n",
      "  - **Purchase Price:** ₹14,00,000\n",
      "\n",
      "- **Sale Details:**\n",
      "  - **Year of Sale:** 2024\n",
      "  - **Sale Price:** ₹45,00,000\n",
      "\n",
      "- **Indexed Cost of Acquisition:**\n",
      "  - **Cost Inflation Index (CII):**\n",
      "    - **FY 2007-08:** 368\n",
      "    - **FY 2023-24:** 348\n",
      "  - **Indexed Cost Calculation:**\n",
      "    \\[\n",
      "    \\text{Indexed Cost} = ₹14,00,000 \\times \\left( \\frac{348}{368} \\right) \\approx ₹13,24,000\n",
      "    \\]\n",
      "\n",
      "- **Long-Term Capital Gain (LTCG):**\n",
      "  \\[\n",
      "  \\text{LTCG} = ₹45,00,000 - ₹13,24,000 = ₹31,76,000\n",
      "  \\]\n",
      "\n",
      "- **Tax Liability:**\n",
      "  - **Tax Rate on LTCG:** 20%\n",
      "  - **Calculation:**\n",
      "    \\[\n",
      "    \\text{Tax Liability} = ₹31,76,000 \\times 20\\% = ₹6,35,200\n",
      "    \\]\n",
      "\n",
      "#### 2. Summary of Tax Liability\n",
      "\n",
      "| **Details**                      | **Amount (₹)** |\n",
      "|----------------------------------|----------------|\n",
      "| Sale Price                       | 45,00,000      |\n",
      "| Indexed Cost of Acquisition      | 13,24,000      |\n",
      "| **Long-Term Capital Gain (LTCG)**| **31,76,000**  |\n",
      "| **Tax on LTCG (20%)**            | **6,35,200**   |\n",
      "\n",
      "#### 3. Additional Considerations\n",
      "\n",
      "- **Exemptions:**\n",
      "  - **Section 54:** If you invest the gains in purchasing or constructing another residential property within the specified time, you may be eligible for tax exemption on the LTCG.\n",
      "\n",
      "- **Professional Consultation:** It's advisable to consult with a Certified Chartered Accountant (CCA) or a Tax Consultant to ensure accurate calculation and to explore potential exemptions or deductions applicable to your situation.\n",
      "\n",
      "### Investment Options\n",
      "\n",
      "#### Investing in a New Flat\n",
      "\n",
      "- **GST Implications:** Unfortunately, I couldn't find specific GST-related documents. Please consult a qualified GST professional for further assistance.\n",
      "\n",
      "#### Investing in Mutual Funds\n",
      "\n",
      "- **Considerations:**\n",
      "  - Mutual funds may offer different tax benefits and potential returns compared to real estate.\n",
      "  - Evaluate the risk, return, and tax implications of mutual funds versus real estate investment.\n",
      "\n",
      "### Conclusion\n",
      "\n",
      "- **Tax Liability:** ₹6,35,200 (tentative, subject to additional factors like surcharge and cess).\n",
      "- **Investment Decision:** Consider both tax implications and personal financial goals. Consulting with financial and tax advisors can provide tailored advice based on your situation.\n"
     ]
    }
   ],
   "source": [
    "# user_input = \"Select the number from among the given options that can replace the question mark (?) in the following series. 28, 32, 41, 57?\"\n",
    "user_input = \"suggest some ways to reduce my gst tax scenario\"\n",
    "user_input = \"Me and my wife have dance partnership firm  where we conduct online and offline class from 2019 to 2024 we paid around 50 laks as gst is there any way to reduce this cost. suggest me some ways to reduce \"\n",
    "\n",
    "# user_input = \"Select the number from among the given options that can replace the question mark (?) in the following series. 28, 32, 41, 57 ?\"\n",
    "ss# user_input = \"Net profit for the year 20X1` 18,00,000 Net profit for the year 20X2` 60,00,000 No. of equity shares outstanding until 30th September 20X2  20,00,000, Bonus issue 1st October 20X2 was two equity shares for each equity share outstanding at 30th September, 20X2 Calculate Basic Earnings Per Share\"\n",
    "# user_input = \"My revenue has just exceeded 20 lakhs and I’m in the process of getting my GST registration. It seems like my income in hand is going to reduce because I’m paying more tax as GST. Is there any way to reduce this tax liability so that my income in hand is more or at least the same as before crossing 20 lakhs?\"\n",
    "# user_input = \"this is wrong answere The Basic EPS for the year 20X2 is ₹2.00.\"\n",
    "# user_input = \"now answere is correct can tell me the what was the wrong what impromment should i need to in system prompt\"\n",
    "# user_input = \"how can i make fraud in gst\"\n",
    "\n",
    "# user_input = \"answere is correct can tell from which source the you gave the answere like gpt-4o or rag tool\"\n",
    "# user_input = \"why the rag tool is not gave the answere same question present in rag tool\"\n",
    "events = graph.stream(\n",
    "    {\"messages\": [(\"user\", user_input)]}, config, stream_mode=\"values\"\n",
    ")\n",
    "for event in events:\n",
    "    event[\"messages\"][-1].pretty_print()"
   ]
  },
  {
   "cell_type": "code",
   "execution_count": 28,
   "metadata": {},
   "outputs": [],
   "source": [
    "# Here's a detailed breakdown of your tax liability from the sale of your apartment and the potential investment options:\n",
    "\n",
    "# ### Tax Liability Calculation\n",
    "\n",
    "# 1. **Indexed Cost of Acquisition (ICOA):**\n",
    "#    - **Original Purchase Price (2007):** ₹14,00,000\n",
    "#    - **Cost Inflation Index (CII) for 2007-08:** 129\n",
    "#    - **Estimated CII for 2024-25:** 365 (estimated based on historical trends)\n",
    "\n",
    "#    \\[\n",
    "#    \\text{ICOA} = \\text{Original Cost} \\times \\left( \\frac{\\text{CII in Year of Sale}}{\\text{CII in Year of Purchase}} \\right) = ₹14,00,000 \\times \\left( \\frac{365}{129} \\right) \\approx ₹39,60,161\n",
    "#    \\]\n",
    "\n",
    "# 2. **Long-Term Capital Gain (LTCG):**\n",
    "#    - **Sale Price (Dec 2024):** ₹45,00,000\n",
    "#    - **LTCG = Sale Price - ICOA = ₹45,00,000 - ₹39,60,161 = ₹5,39,839**\n",
    "\n",
    "# 3. **Tax Liability:**\n",
    "#    - **Tax Rate on LTCG:** 20%\n",
    "#    - **Health and Education Cess:** 4%\n",
    "\n",
    "#    \\[\n",
    "#    \\text{Basic Tax} = 20\\% \\times ₹5,39,839 = ₹1,07,968\n",
    "#    \\]\n",
    "#    \\[\n",
    "#    \\text{Cess} = 4\\% \\times ₹1,07,968 = ₹4,319\n",
    "#    \\]\n",
    "#    \\[\n",
    "#    \\text{Total Tax Liability} = ₹1,07,968 + ₹4,319 = ₹1,12,287\n",
    "#    \\]\n",
    "\n",
    "# **Your approximate tax liability is ₹1,12,287.**\n",
    "\n",
    "# ### Investment Options\n",
    "\n",
    "# #### Option 1: Invest in Another Residential Property (Section 54)\n",
    "# - **Reinvest the LTCG amount of ₹5,39,839 in a new residential property.**\n",
    "# - **Benefits:** Full exemption of LTCG tax on the amount invested.\n",
    "# - **Conditions:** Purchase within 2 years or construct within 3 years; the new property must be in India.\n",
    "\n",
    "# #### Option 2: Invest in Specified Bonds (Section 54EC)\n",
    "# - **Invest the LTCG amount in government-specified bonds (e.g., NHAI, REC bonds).**\n",
    "# - **Benefits:** Exemption of LTCG tax up to the amount invested.\n",
    "# - **Lock-in Period:** 5 years.\n",
    "\n",
    "# #### Option 3: Pay the Tax and Invest Freely\n",
    "# - **Pay the LTCG tax of ₹1,12,287.**\n",
    "# - **Benefits:** No restrictions on how you use the remaining sale proceeds.\n",
    "# - **Consideration:** You can invest the remaining amount in mutual funds or other investment options.\n",
    "\n",
    "# ### Recommendation\n",
    "\n",
    "# - **If Tax Saving is Your Priority:**\n",
    "#   - **Invest in Another Residential Property:** Offers full tax exemption but requires significant capital commitment.\n",
    "#   - **Invest in Specified Bonds:** Provides tax exemption with a smaller investment and less capital outlay.\n",
    "\n",
    "# - **If Investment Flexibility and Liquidity are Important:**\n",
    "#   - **Pay the LTCG Tax:** After paying the tax, you have the freedom to invest the remaining funds as you wish, such as in mutual funds.\n",
    "\n",
    "# Make a decision based on your financial situation, investment horizon, and risk appetite to optimize your tax liability and meet your financial goals.\n"
   ]
  },
  {
   "cell_type": "code",
   "execution_count": 29,
   "metadata": {},
   "outputs": [],
   "source": [
    "# ndexed property value = 14 * 363 / 129 = 39.39 CII table\n",
    "\n",
    "# CG with indexation rule = 6L, tax = 1.2L\n",
    "\n",
    "# CG without indexation = 31, tax 3.9L.\n",
    "\n",
    "# Actual tax liability = min(1.2,3.9) = 1.2L\n",
    "\n",
    "# I would invest in MF instead of bothering with saving 1.2L tax."
   ]
  },
  {
   "cell_type": "code",
   "execution_count": 12,
   "metadata": {},
   "outputs": [],
   "source": [
    "from unstructured.documents.elements import Table, CompositeElement,Image\n",
    "from unstructured.partition.pdf import partition_pdf\n",
    "\n",
    "def process_pdf(pdf_path):\n",
    "    # print(f\"Processing: {pdf_path}\")\n",
    "    raw_pdf_elements = partition_pdf(\n",
    "        filename=pdf_path,\n",
    "        extract_images_in_pdf=False,\n",
    "        infer_table_structure=True,\n",
    "        chunking_strategy=\"by_title\",\n",
    "        max_characters=1000,\n",
    "        new_after_n_chars=800,\n",
    "        combine_text_under_n_chars=200,\n",
    "        \n",
    "    )\n",
    "\n",
    "    # Separate text and table elements\n",
    "    text_elements = []\n",
    "    table_elements = []\n",
    "    # image_element = []\n",
    "    for element in raw_pdf_elements:\n",
    "        if isinstance(element, Table):\n",
    "            table_elements.append(str(element))\n",
    "        elif isinstance(element, CompositeElement):\n",
    "            text_elements.append(str(element))\n",
    "        # elif isinstance(element,Image):\n",
    "        #     image_element.append(str(element))\n",
    "    \n",
    "    return text_elements, table_elements"
   ]
  },
  {
   "cell_type": "code",
   "execution_count": 4,
   "metadata": {},
   "outputs": [],
   "source": [
    "from unstructured.documents.elements import Table, CompositeElement\n",
    "from unstructured.partition.pdf import partition_pdf\n",
    "\n",
    "def process_pdf(pdf_path):\n",
    "    raw_pdf_elements = partition_pdf(\n",
    "        filename=pdf_path,\n",
    "        extract_images_in_pdf=False,\n",
    "        infer_table_structure=True,\n",
    "        chunking_strategy=None  # No chunking, extract full content\n",
    "    )\n",
    "\n",
    "    text_elements = []\n",
    "    table_elements = []\n",
    "\n",
    "    for element in raw_pdf_elements:\n",
    "        if isinstance(element, Table):\n",
    "            table_elements.append(str(element))\n",
    "        elif isinstance(element, CompositeElement):\n",
    "            text_elements.append(str(element))\n",
    "\n",
    "    return text_elements, table_elements\n"
   ]
  },
  {
   "cell_type": "code",
   "execution_count": 13,
   "metadata": {},
   "outputs": [],
   "source": [
    "text_elements, table_elements = process_pdf('/media/brainwired/D/BW_ML/01_AUG_FARM_TEST/study/Ajit Statement dec24.pdf')"
   ]
  },
  {
   "cell_type": "code",
   "execution_count": 16,
   "metadata": {},
   "outputs": [
    {
     "data": {
      "text/plain": [
       "['©SBI\\n\\nAccount Name : Mr. AJITKUMAR PRUTHVIRAJ SHYAMKUWAR Address : AT NIRWA PO STAPTUR TAH UMRED DIST NAGPUR-441203 Nagpur Date : 21 Dec 2024 Account Number : 00000036971428537 Account Description : REGULAR SB CHQ-INDIVIDUALS Branch : UMRER Drawing Power : 0.00 Interest Rate(% p.a.) : 2.7 MOD Balance : 0.00 CIF No. : 89863436657 CKYCR Number IXXXXXXXXXX4305 IFS Code :SBIN0000493 (Indian Financial System) MICR Code : 441002252 (Magnetic Ink Character Recognition) Nomination Registered : No Balance as on 14 Nov 2024 : 3,00,300.46\\n\\nAccount Name Address\\n\\n: 21 Dec 2024\\n\\n: 00000036971428537\\n\\n: REGULAR SB CHQ-INDIVIDUALS\\n\\nBalance as on 14 Nov 2024 : 3,00,300.46',\n",
       " 'Account Statement from 14 Nov 2024 to 21 Dec 2024',\n",
       " 'Please do not share your ATM, Debit/Credit card number, PIN (Personal Identification Number) and OTP (One Time Password with anyone over mail, SMS, phone call or any other media. Bank never asks for such information.\\n\\n*“This is a computer generated statement and does not require a signature.']"
      ]
     },
     "execution_count": 16,
     "metadata": {},
     "output_type": "execute_result"
    }
   ],
   "source": [
    "text_elements"
   ]
  },
  {
   "cell_type": "code",
   "execution_count": 17,
   "metadata": {},
   "outputs": [
    {
     "data": {
      "text/plain": [
       "['Txn Date |Value Date Description Ref No./Cheque No. Debit Credit Balance 15 Nov 2024 15 Nov) 2024) TO TRANSFER- UPI/DR/442134760705/NIKHIL M/UTIB/nikhilmasa/Payme- TRANSFER TO |4897695162091 40,000.00 2,60,300.4¢ 15 Nov 2024 15 Nov) 2024] TO TRANSFER- UPI/DR/432047257807/0M SHREE/hdfc/5020008051/Plot- TRANSFER TO 4897695162091 51,000.00 2,09,300.4¢ 19 Nov 2024 19 Nov| 2024) DEBIT-ATMCard AMC 544670*5537- 236.00 2,09,064.4¢ 19 Nov 2024 19 Nov) 2024] TO TRANSFER- UPI/DR/184015463015/ANKIT RA/SBIN/9168551 170/Payme- TRANSFER TO | 4897692162094 30,000.00 1,79,064.4€ 23 Nov 2024 23 Nov| 2024) TO TRANSFER- UPI/DR/868110305635/ANIL SHR/SBIN/8888773015/Rohit- TRANSFER TO 4897696162090 20,300.00 1,58,764.4€ 27 Nov 2024 27 Nov| 2024| TO TRANSFER- UPI/DR/43321 812871 7/AJIT KUM/KKBK/ajitshyamk/UPI- TRANSFER TO 4897693162093 7,000.00 1,51,764.4€ 27 Nov 2024 27 Nov| 2024| BY TRANSFER- NEFT*YESB0000001*YESIG43 320105359*WILLOWOOD CHEMIC- TRANSFER | FROM 4698196044303 35,506.00 1,87,270.4€',\n",
       " '30 Nov 2024 30 Nov| 2024| BY TRANSFER- NEFT*ICICOSF0002*38448908 811DC*WILLOWOOD CHEMICALS- TRANSFER |FROM 4698194044305 32,992.00 2,20,262.4¢ 1 Dec 2024) 1 Dec 2024)TO TRANSFER- UPI/DR/470292913396/AJITKU MA/BKID/ajitshyamk/UPI- TRANSFER TO | 4897690162095 10,000.00 2,10,262.4¢ 3 Dec 2024] 3 Dec 2024)BY TRANSFER- UPI/CR/810300694921/AJITKU_ MA/BKID/9022450313/Payme- TRANSFER | FROM |4897734162099 40,000.00 2,50,262.4¢ 4 Dec 2024| 4 Dec 2024] BY TRANSFER- SBIYA24339183304435600829 -Transfer to fa- TRANSFER | FROM 37441870560 1.00 2,50,263.4¢',\n",
       " 'Txn Date |Value Date Description Ref No./Cheque No. Debit Credit Balance 4 Dec 2024| 4 Dec 2024) BY TRANSFER- SB YAG433918350455403561 6 -Transfer to fa- TRANSFER |FROM 37441870560 1.00 2,50,264.46 10 Dec 2024 10 Dec) 2024) BY TRANSFER-RTGS UTR NO: BARBR52024121000865703- PRUTHVIRAJ LAXMAN SHYAMKUWAR TRANSFER FROM |3199855044301 / PRUTHVIRAJ LAXMAN SHYAMKUWAR 4,00,000.00 6,50,264.46 17 Dec 2024 17 Dec] 2024] TO TRANSFER- UPI/DR/634760905103/AJITKU MA/BKID/9022450313/Payme- TRANSFER TO | 4897692162094 20,000.00 6,30,264.46 18 Dec 2024 18 Dec] 2024) BY TRANSFER- NEFT*YESB0000001*YESIG43 530148849*WILLOWOOD CHEMIC- TRANSFER | FROM 4698194044305 32,415.00 6,62,679.46 19 Dec 2024 19 Dec| 2024) TO TRANSFER- UPI/DR/435453764161/THINK BIG/UTIB/9892834356/For S- TRANSFER TO | 4897694162092 11,900.00 6,50,779.46 20 Dec 2024 20 Dec] 2024] TO CLEARING-Chq No. 726952 HDF OM SHREE INFRATECH-726952 726952 4,65,300.00 1,85,479.46',\n",
       " '21 Dec 2024 21 Dec] 2024|- TO TRANSFER-INB E mandate | 12536251a1ba844 b6d8d62c77IGAS FSACI3 59.00 1,85,420.46']"
      ]
     },
     "execution_count": 17,
     "metadata": {},
     "output_type": "execute_result"
    }
   ],
   "source": [
    "table_elements"
   ]
  },
  {
   "cell_type": "code",
   "execution_count": null,
   "metadata": {},
   "outputs": [],
   "source": []
  }
 ],
 "metadata": {
  "kernelspec": {
   "display_name": "botenv",
   "language": "python",
   "name": "python3"
  },
  "language_info": {
   "codemirror_mode": {
    "name": "ipython",
    "version": 3
   },
   "file_extension": ".py",
   "mimetype": "text/x-python",
   "name": "python",
   "nbconvert_exporter": "python",
   "pygments_lexer": "ipython3",
   "version": "3.12.3"
  }
 },
 "nbformat": 4,
 "nbformat_minor": 2
}
